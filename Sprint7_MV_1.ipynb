{
 "cells": [
  {
   "cell_type": "markdown",
   "metadata": {},
   "source": [
    "## Nivel 1\n",
    "***\n",
    "** Ejercicio 1 <br>\n",
    "\n",
    "** Calculadora de l'índex de massa corporal<br>\n",
    "\n",
    "Escriu una funció que calculi l'IMC ingressat per l'usuari/ària, és a dir, qui ho executi haurà d'ingressar aquestes dades.<br> Pots obtenir més informació del seu càlcul en:\n",
    "* -> Índice de masa corporal IMC que es y como se calcula.<br>\n",
    "La funció ha de classificar el resultat en les seves respectives categories"
   ]
  },
  {
   "cell_type": "markdown",
   "metadata": {},
   "source": [
    "** Explicación del código:\n",
    "\n",
    "1. Para realizar este ejercicio he creado la función calcular_imc\n",
    "2. Inicio el bloque try para manejar posibles errores al ingresar los valores de peso y altura.\n",
    "3. Solicito al usuario que introduzca su peso en kilogramos y su altura en metros.\n",
    "4. Realizo el calculo del IMC = round((peso/(altura**2)),1).\n",
    "   * -> Donde \"peso\" se divide entre la altura elevada al cuadrado. También he utilizando la función round(), para redonderar el resultado a 1 decimal.\n",
    "5. Categorias del IMC: para definir los rangos del índice de masa corporal, he utilizado los condicionales if y elseif\n",
    "   * -> En el primer if se especifica que si el resultado está por debajo de 18.5, será considerado peso inferior al normal.\n",
    "   * -> En el primer elif se especifica que si el resultado es menor o igual de 24.9, será considerado peso normal.\n",
    "   * -> En el segundo elif se especifica que si el resultado es menor o igual de 29.9, será considerado peso superior al normal.\n",
    "   * -> En el else se indica que si el IMC analizado no está dentro de las categorias especificadas enteriormente, entonces será considerado como obesidad. \n",
    "6. Almaceno el IMC y la categoría en un diccionario llamado indice_masa_corporal. \n",
    "7. Imprimo los resultados\n",
    "8. La función calcular_imc devuelve el diccionario indice_masa_corporal con los valores calculados con el return\n",
    "9. Gestiono las entradas no válidas\n",
    "   * -> Donde, si los datos no son float, se muestra un mensaje de error, y se especifica que las entradas deben ser números float.\n",
    "8. Llamo a la función calcular_imc() y almaceno el resultado en imc_resultado"
   ]
  },
  {
   "cell_type": "code",
   "execution_count": 18,
   "metadata": {},
   "outputs": [
    {
     "name": "stdout",
     "output_type": "stream",
     "text": [
      "Tu IMC es: 30.6\n",
      "Obesidad\n"
     ]
    }
   ],
   "source": [
    "def calcular_imc():\n",
    "    try:\n",
    "        peso = float(input('Dime tu peso en kg: '))\n",
    "        altura = float(input('Dime tu altura en metros: '))\n",
    "        \n",
    "        IMC = round((peso / (altura ** 2)), 1)\n",
    "        \n",
    "        if IMC < 18.5:\n",
    "            categoria = \"Su peso es inferior al normal\"\n",
    "        elif IMC <= 24.9:\n",
    "            categoria = \"Su peso es normal\"\n",
    "        elif IMC <= 29.9:\n",
    "            categoria = \"Su peso es superior al normal\"\n",
    "        else:\n",
    "            categoria = \"Obesidad\"\n",
    "        \n",
    "        indice_masa_corporal = {\n",
    "            \"IMC\": IMC,\n",
    "            \"Categoría\": categoria\n",
    "        }\n",
    "        \n",
    "        print(f\"Tu IMC es: {IMC}\")\n",
    "        print(categoria)\n",
    "        \n",
    "        return indice_masa_corporal\n",
    "    except ValueError:\n",
    "        print(\"Valor erróneo.\\nPor favor, escribe tu peso y tu altura como un número decimal.\")\n",
    "        return None\n",
    "\n",
    "\n",
    "imc_resultado = calcular_imc()\n"
   ]
  },
  {
   "cell_type": "markdown",
   "metadata": {},
   "source": [
    "** Ejercicio 2 <br>\n",
    "\n",
    "** Convertidor de temperatures.<br>\n",
    "\n",
    "Existeixen diverses unitats de temperatura utilitzades en diferents contextos i regions. Les més comunes són Celsius (°C), Fahrenheit (°F) i Kelvin (K). <br> També existeixen altres unitats com Rankine (°Ra) i Réaumur (°Re). Selecciona almenys 2 conversors, de tal manera que en introduir una temperatura retorni, com a mínim, dues conversions."
   ]
  },
  {
   "cell_type": "markdown",
   "metadata": {},
   "source": [
    "** Explicación del código:\n",
    "\n",
    "1. Para realizar este ejercicio he creado la función convertir_temperatura\n",
    "2. Inicio el bloque try para manejar posibles errores al ingresar la temperatura.\n",
    "2. Formulas para convertir la temperatura en diferentes unidades\n",
    "3. Solicito al usuario que ingrese una temperatura en grados Celsius.\n",
    "4. Cálculo de las conversiones y almacenamiento en un diccionario\n",
    "   * -> La fórmula que la función utiliza para realizar el cálculo en grados fahrenheit es Fahrenheit = (temp*1.8)+32.\n",
    "   * -> La fórmula que la función utiliza para realizar el cálculo en grados rankine es Rankine = (temp*1.8) + 491.67.\n",
    "   * -> La fórmula que la función utiliza para realizar el cálculo en grados newton es Newton = (temp* 3.0303).\n",
    "   * -> La fórmula que la función utiliza para realizar el cálculo en Kelvin es Kelvin = (temp+ 273.15).\n",
    "5. Impresión de los resultados utilizando un for que recorre el diccionario temperaturas y se imprimen los valores convertidos junto con su unidad.\n",
    "6. Devolución del diccionario con return, esto permite almacenar y reutilizar los valores en otras partes del programa.\n",
    "7. Gestiono las entradas no válidas\n",
    "   * -> Donde, si los datos no son float, se muestra un mensaje de error, y se especifica que las entradas deben ser números float.\n",
    "8.  Llamo a la función y almaceno el resultado en temperaturas_convertidas"
   ]
  },
  {
   "cell_type": "code",
   "execution_count": 16,
   "metadata": {},
   "outputs": [
    {
     "name": "stdout",
     "output_type": "stream",
     "text": [
      "La temperatura en Fahrenheit es: 170.6 F\n",
      "La temperatura en Rankine es: 630.27 R\n",
      "La temperatura en Newton es: 233.33 N\n",
      "La temperatura en Kelvin es: 350.15 K\n"
     ]
    }
   ],
   "source": [
    "def convertir_temperatura():\n",
    "    try:\n",
    "        temp = float(input('Dime la temperatura en grados Celsius: '))\n",
    "        \n",
    "        temperaturas = {\n",
    "            \"Fahrenheit\": round((temp * 1.8) + 32, 2),\n",
    "            \"Rankine\": round((temp * 1.8) + 491.67, 2),\n",
    "            \"Newton\": round((temp * 3.0303), 2),\n",
    "            \"Kelvin\": round((temp + 273.15), 2)\n",
    "        }\n",
    "        \n",
    "        for escala, valor in temperaturas.items():\n",
    "            print(f\"La temperatura en {escala} es: {valor} {escala[0]}\")\n",
    "        \n",
    "        return temperaturas\n",
    "    \n",
    "    except ValueError:\n",
    "        print(\"Valor erróneo.\\nPor favor, escribe la temperatura como un número decimal.\")\n",
    "        return None\n",
    "\n",
    "# Llamar a la función y almacenar el resultado\n",
    "temperaturas_convertidas = convertir_temperatura()\n"
   ]
  },
  {
   "cell_type": "markdown",
   "metadata": {},
   "source": [
    "** Ejercicio 3 <br>\n",
    "\n",
    "** Comptador de paraules d'un text.<br>\n",
    "\n",
    "Escriu una funció que donat un text, mostri les vegades que apareix cada paraula.\n",
    "\n"
   ]
  },
  {
   "cell_type": "markdown",
   "metadata": {},
   "source": [
    "** Explicación del código:\n",
    "\n",
    "1. Para realizar este ejercicio he creado la función contador_oalabras_texto, la cual consta de un parametro, texto, para contar las palabras de un texto.\n",
    "\n",
    "2. Limpieza y transformación:\n",
    "* -> Convierto todas las letras a minuscula, para evitar que las palabaras que llevan letras mayusculas sean reconocidas como una palabara nueva. \n",
    "* -> Creo la lista simbolos, que contiene los simbolos m´ss comunes utilizados a la hoara de escribir, para evitar que por una palabar escrita con un simbolo, ésta sea identificada como una palabra nueva \n",
    "* -> Con un bucle for, recorro las palabras del texto para eliminar los simbolos y reemplazarlos por una cadena vacía\n",
    "\n",
    "3. Divido el texto en palabras con split y cuento la cantidad total de palabras del texto con len\n",
    "\n",
    "4. Creo un diccionario llamado diccionario_palabras para almacenar cada palabra, como clave, y el número de veces en que la palabra aparece, como valor.\n",
    "\n",
    "5. Creo un bucle para buscar las palabras y, si se repiten, sumo 1 a su frecuencia por cada repetición; en caso contrario, su frecuencia será 1 \n",
    "\n",
    "6. Imprimo el diccionario_palabras\n",
    "\n",
    "7. Llamo a la función \n"
   ]
  },
  {
   "cell_type": "code",
   "execution_count": 32,
   "metadata": {},
   "outputs": [
    {
     "name": "stdout",
     "output_type": "stream",
     "text": [
      "Cantidad total de palabras en el texto: 4\n",
      "{'la': 2, 'niña': 2}\n"
     ]
    }
   ],
   "source": [
    "def contador_palabras_texto(texto):\n",
    "    \n",
    "    texto = texto.lower()\n",
    "    \n",
    "    simbolos = [\",\", \".\", \";\", \":\", \"'\", '\"', \"¿\", \"?\", \"¡\", \"!\", \"(\", \")\"]\n",
    "    for symbol in simbolos:\n",
    "        texto = texto.replace(symbol, \"\")\n",
    "        \n",
    "    palabras = texto.split()\n",
    "    contador_de_palabras = len(palabras)\n",
    "    print(\"Cantidad total de palabras en el texto:\", contador_de_palabras)\n",
    "    \n",
    "    diccionario_palabras = {}\n",
    "\n",
    "    for x in palabras:\n",
    "        if x in diccionario_palabras:\n",
    "            diccionario_palabras[x] += 1\n",
    "        else: \n",
    "          diccionario_palabras [x] = 1        \n",
    "\n",
    "    print(diccionario_palabras) \n",
    "\n",
    "\n",
    "contador_palabras_texto(input(\"Escribe un texto: \"))\n"
   ]
  },
  {
   "cell_type": "markdown",
   "metadata": {},
   "source": [
    "** Ejercicio 4 <br>\n",
    "\n",
    "** Diccionari invers.\n",
    "\n",
    "Resulta que el client té una enquesta molt antiga que s'emmagatzema en un diccionari i els resultats els necessita al revés, és a dir, intercanviats les claus i els valors. <br> Els valors i claus en el diccionari original són únics; si aquest no és el cas, la funció hauria d'imprimir un missatge d'advertiment."
   ]
  },
  {
   "cell_type": "markdown",
   "metadata": {},
   "source": [
    "** Explicación del código:\n",
    "\n",
    "1. Para realizar este ejercicio he creado la función intercambiar_keys_values\n",
    "2. Inicio el bloque try para manejar posibles errores que puedan surgir.\n",
    "3. Creo el diccionario con los días de la semana como claves y acciones como valores.\n",
    "4. convierto los valores de dictionary en una lista en la que compruebo si la longitud de los valores en la lista es diferente a la longitud de los valores en el set(no permite valores repetidos). Cuando las longitudes son diferentes entonces me imprime la advertencia: \"existen multiples valores para una clave\". En ese caso, la función devuelve None, deteniendo la ejecución.\n",
    "5. En caso de que las longitudes sean iguales se crea un nuevo diccionario reverse_dictionary en el que las claves y valores del diccionario original se invierten\n",
    "6. Se imprimen ambos diccionarios\n",
    "7. Retorno del reverse_dictionary\n",
    "8. Manejo de errores generales\n",
    "9. Llamo a la función y almaceno el resultado (el diccionario invertido o None si hubo un error) en la variable reverse_dictionary. "
   ]
  },
  {
   "cell_type": "code",
   "execution_count": 20,
   "metadata": {},
   "outputs": [
    {
     "name": "stdout",
     "output_type": "stream",
     "text": [
      "Diccionario inicial: {'lunes': 'sonreir', 'martes': 'cantar', 'miercoles': 'bailar', 'jueves': 'rezar', 'viernes': 'agradecer', 'sabado': 'nadar', 'domingo': 'pasear'}\n",
      "Diccionario invertido: {'sonreir': 'lunes', 'cantar': 'martes', 'bailar': 'miercoles', 'rezar': 'jueves', 'agradecer': 'viernes', 'nadar': 'sabado', 'pasear': 'domingo'}\n"
     ]
    }
   ],
   "source": [
    "def intercambiar_keys_values():\n",
    "    try:\n",
    "        dictionary = {\n",
    "            'lunes': \"sonreir\",\n",
    "            'martes': \"cantar\",\n",
    "            'miercoles': \"bailar\",\n",
    "            'jueves': \"rezar\",\n",
    "            'viernes': \"agradecer\",\n",
    "            'sabado': \"nadar\",\n",
    "            'domingo': \"pasear\"\n",
    "        }\n",
    "        \n",
    "        valores = list(dictionary.values())\n",
    "        if len(valores) != len(set(valores)):\n",
    "            print(\"Existen múltiples valores para una clave\")\n",
    "            return None\n",
    "        else:\n",
    "            reverse_dictionary = {v: k for k, v in dictionary.items()}\n",
    "            print(\"Diccionario inicial:\", dictionary)\n",
    "            print(\"Diccionario invertido:\", reverse_dictionary)\n",
    "            return reverse_dictionary\n",
    "   \n",
    "    except Exception as e:\n",
    "        print(\"Ocurrió un error:\", str(e))\n",
    "        return None\n",
    "\n",
    "# Llamar a la función y almacenar el resultado\n",
    "reverse_dictionary = intercambiar_keys_values()"
   ]
  },
  {
   "cell_type": "markdown",
   "metadata": {},
   "source": [
    "## Nivel 2\n",
    "***\n",
    "** Ejercicio 1 <br>\n",
    "\n",
    "** Diccionari invers amb duplicats\n",
    "\n",
    "Continuant amb l'exercici 4 del nivell 1: al client es va oblidar de comentar un detall i resulta que els valors en el diccionari original poden duplicar-se i més,<br> per la qual cosa les claus intercanviades poden tenir duplicats. En aquest cas, en l'exercici anterior imprimies un missatge d'advertiment, ara, <br>els valors del diccionari resultant hauran d'emmagatzemar-se com una llista.<br> Tingues en compte que si és un valor únic no ha de ser una llista."
   ]
  },
  {
   "cell_type": "markdown",
   "metadata": {},
   "source": [
    "** Explicación del código:\n",
    "\n",
    "1. Para realizar este ejercicio he utilizado la función interc_keys_values, utilizada en el ejercicio 4 del nivel 1\n"
   ]
  },
  {
   "cell_type": "code",
   "execution_count": 2,
   "metadata": {},
   "outputs": [
    {
     "name": "stdout",
     "output_type": "stream",
     "text": [
      "Diccionario inicial: {'lunes': 'sonreir', 'martes': 'cantar', 'miercoles': 'bailar', 'jueves': 'rezar', 'viernes': 'agradecer', 'sabado': 'nadar', 'domingo': 'pasear', 'domingo noche': 'pasear'}\n",
      "Diccionario invertido: {'sonreir': 'lunes', 'cantar': 'martes', 'bailar': 'miercoles', 'rezar': 'jueves', 'agradecer': 'viernes', 'nadar': 'sabado', 'pasear': ['domingo', 'domingo noche']}\n"
     ]
    }
   ],
   "source": [
    "def interc_keys_values(dictionary):\n",
    "    reverse_dictionary = {} # diccionario vacío para almacenar las calves y los valores\n",
    "\n",
    "    for clave, valor in dictionary.items():\n",
    "        if valor in reverse_dictionary: # compruebo si el valor que está iterando ya está en el reverse_dictionary\n",
    "            if isinstance(reverse_dictionary[valor], list): # compruebo si el valor es una lista \n",
    "                reverse_dictionary[valor].append(clave) # añado la clave en esa lista con .append\n",
    "            else: #si el valor no es una lista \n",
    "                reverse_dictionary[valor] = [reverse_dictionary[valor], clave] # convierte el valor único en una lista que contiene: el valor original y la clave nueva\n",
    "        else: #Si el valor no está en reverse_dictionary\n",
    "            reverse_dictionary[valor] = clave # añado el valor como una nueva entrada en el reverse_dictionary con la clave actual\n",
    "    \n",
    "    return reverse_dictionary \n",
    "\n",
    "\n",
    "dictionary_semana = ({'lunes':\"sonreir\", 'martes':\"cantar\", 'miercoles':\"bailar\", 'jueves':\"rezar\", 'viernes':\"agradecer\", 'sabado':\"nadar\", 'domingo':\"pasear\"}) # diccionario origial\n",
    "dictionary_semana[\"domingo noche\"] = \"pasear\" # añado una clave y un valor nuevo al diccionario, el valor pasear se repite. \n",
    "\n",
    "#programa principal: Ejecutar la función y visualizar\n",
    "reverse_dictionary = interc_keys_values(dictionary_semana)\n",
    "print(\"Diccionario inicial:\", dictionary_semana)\n",
    "print(\"Diccionario invertido:\", reverse_dictionary)\n"
   ]
  },
  {
   "cell_type": "markdown",
   "metadata": {},
   "source": [
    "** Ejercicio 2 <br>\n",
    "\n",
    "** Conversió de tipus de dades\n",
    "\n",
    "El client rep una llista de dades i necessita generar dues llistes, la primera on estaran tots els elements que es van poder convertir en flotants <br> i l'altra on estan els elements que no es van poder convertir. Exemple de la llista que rep el client:<br> [ '1.3', 'one' , '1e10' , 'seven', '3-1/2', ('2',1,1.4,'not-a-number'), [1,2,'3','3.4']]"
   ]
  },
  {
   "cell_type": "code",
   "execution_count": 19,
   "metadata": {},
   "outputs": [
    {
     "ename": "TypeError",
     "evalue": "float() argument must be a string or a real number, not 'list'",
     "output_type": "error",
     "traceback": [
      "\u001b[31m---------------------------------------------------------------------------\u001b[39m",
      "\u001b[31mTypeError\u001b[39m                                 Traceback (most recent call last)",
      "\u001b[36mCell\u001b[39m\u001b[36m \u001b[39m\u001b[32mIn[19]\u001b[39m\u001b[32m, line 19\u001b[39m\n\u001b[32m     16\u001b[39m \u001b[38;5;66;03m# Código para crear las dos listas de datos float y no float a partir de la lista de datos inicial\u001b[39;00m\n\u001b[32m     18\u001b[39m \u001b[38;5;28;01mfor\u001b[39;00m dato \u001b[38;5;129;01min\u001b[39;00m lista_datos_inicial: \n\u001b[32m---> \u001b[39m\u001b[32m19\u001b[39m   \u001b[43mconvertir_dato_a_float\u001b[49m\u001b[43m(\u001b[49m\u001b[43mdato\u001b[49m\u001b[43m)\u001b[49m\n\u001b[32m     20\u001b[39m   \u001b[38;5;28;01mif\u001b[39;00m (convertir_dato_a_float(dato)) == \u001b[38;5;28;01mTrue\u001b[39;00m: \u001b[38;5;66;03m# si se puede convertir a float\u001b[39;00m\n\u001b[32m     21\u001b[39m                 dato = \u001b[38;5;28mfloat\u001b[39m(dato) \u001b[38;5;66;03m# convierto el valor a tipo float\u001b[39;00m\n",
      "\u001b[36mCell\u001b[39m\u001b[36m \u001b[39m\u001b[32mIn[19]\u001b[39m\u001b[32m, line 11\u001b[39m, in \u001b[36mconvertir_dato_a_float\u001b[39m\u001b[34m(dato)\u001b[39m\n\u001b[32m      9\u001b[39m \u001b[38;5;28;01mdef\u001b[39;00m\u001b[38;5;250m \u001b[39m\u001b[34mconvertir_dato_a_float\u001b[39m(dato):\n\u001b[32m     10\u001b[39m     \u001b[38;5;28;01mtry\u001b[39;00m:\n\u001b[32m---> \u001b[39m\u001b[32m11\u001b[39m        \u001b[38;5;28;43mfloat\u001b[39;49m\u001b[43m(\u001b[49m\u001b[43mdato\u001b[49m\u001b[43m)\u001b[49m\n\u001b[32m     12\u001b[39m        \u001b[38;5;28;01mreturn\u001b[39;00m \u001b[38;5;28;01mTrue\u001b[39;00m\n\u001b[32m     13\u001b[39m     \u001b[38;5;28;01mexcept\u001b[39;00m \u001b[38;5;167;01mValueError\u001b[39;00m:\n",
      "\u001b[31mTypeError\u001b[39m: float() argument must be a string or a real number, not 'list'"
     ]
    }
   ],
   "source": [
    "# Creo la lista de datos inicial \n",
    "lista_datos_inicial = [\"ten\", \"10\", \"vint\",\"5.1\", \"5e9\", \"7-9/3\", \"ocho\", [\"2.2\", \"8\"]]\n",
    "\n",
    "# Creo las 2 listas vacias \n",
    "lista_float = []\n",
    "lista_no_float = []\n",
    "\n",
    "#Función para comprobar si los datos se puede convertir en float o no \n",
    "def convertir_dato_a_float(dato):\n",
    "    try:\n",
    "       float(dato)\n",
    "       return True\n",
    "    except ValueError:\n",
    "       return False\n",
    "    \n",
    "# Código para crear las dos listas de datos float y no float a partir de la lista de datos inicial\n",
    "    \n",
    "for dato in lista_datos_inicial: \n",
    "  convertir_dato_a_float(dato)\n",
    "  if (convertir_dato_a_float(dato)) == True: # si se puede convertir a float\n",
    "                dato = float(dato) # convierto el valor a tipo float\n",
    "                lista_float.append(dato) # lo agrego en la \"lista_float\"\n",
    "  else: # si no se puede convertir en float\n",
    "                lista_no_float.append(dato) # lo agrego a la lista_no_float\n",
    "  \n",
    "\n",
    "# visualizo las 2 listas\n",
    "print(\"Lista de datos que se pueden convertir en flotantes:\", lista_float)\n",
    "print(\"Lista de datos que NO se pueden convertir en flotantes:\", lista_no_float)\n",
    "\n",
    "# poner dentro de la lista otra lista y tuplas y crear un bucle que se llame a si misma para procesar las sublistas "
   ]
  },
  {
   "cell_type": "markdown",
   "metadata": {},
   "source": [
    "## Nivel 3\n",
    "***\n",
    "** Ejercicio 1 <br>\n",
    "\n",
    "** Comptador i endreçador de paraules d'un text.\n",
    "\n",
    "El client va quedar content amb el comptador de paraules, però ara vol llegir arxius TXT i que calculi la freqüència de cada paraula ordenades <br> dins de les entrades habituals del diccionari segons la lletra amb la qual comencen, és a dir, les claus han d'anar de la A a la Z i dins de la A hem d'anar de la A la Z.<br> Per exemple, per a l'arxiu \"tu_me_quieres_blanca.txt\" la sortida esperada seria:"
   ]
  },
  {
   "cell_type": "code",
   "execution_count": 48,
   "metadata": {},
   "outputs": [
    {
     "name": "stdout",
     "output_type": "stream",
     "text": [
      "Cantidad total de palabras en el texto: 202\n",
      "{'a': 3, 'agua': 1, 'al': 2, 'alba': 4, 'alcobas': 1, 'alimenta': 1, 'alma': 1, 'amarga': 1, 'azucena': 1, 'baco': 1, 'banquete': 1, 'bebe': 1, 'blanca': 3, 'boca': 1, 'bosques': 1, 'buen': 1, 'cabañas': 1, 'carnes': 2, 'casta': 3, 'cerrada': 1, 'con': 4, 'conservas': 1, 'copas': 1, 'corola': 1, 'corriste': 1, 'cuando': 2, 'cubierto': 1, 'cuerpo': 1, 'cuáles': 1, 'de': 8, 'dejaste': 1, 'del': 1, 'diga': 1, 'dios': 2, 'duerme': 1, 'el': 4, 'ellas': 1, 'en': 4, 'engaño': 1, 'enredada': 1, 'entonces': 1, 'escarcha': 1, 'espumas': 1, 'esqueleto': 1, 'estrago': 1, 'festejando': 1, 'filtrado': 1, 'frutos': 1, 'habla': 1, 'hacia': 1, 'haya': 1, 'hayas': 1, 'hermana': 1, 'hombre': 1, 'hubiste': 1, 'huye': 1, 'intacto': 1, 'jardines': 1, 'la': 3, 'labios': 1, 'las': 7, 'lo': 2, 'los': 4, 'luna': 1, 'lévate': 1, 'límpiate': 1, 'mano': 1, 'manos': 1, 'margarita': 1, 'me': 10, 'mi': 1, 'mieles': 1, 'milagros': 1, 'mojada': 1, 'montaña': 1, 'morados': 1, 'negros': 1, 'ni': 2, 'no': 1, 'nácar': 1, 'nívea': 2, 'perdone)': 2, 'perfume': 1, 'por': 2, 'pretendes': 3, 'preténdeme': 3, 'puesto': 1, 'pájaros': 1, 'pámpanos': 1, 'que': 6, 'quedó': 1, 'quieres': 6, 'rayo': 1, 'raíz': 1, 'renueva': 1, 'rocas': 1, 'rojo': 1, 'salitre': 1, 'se': 2, 'sea': 1, 'sean': 1, 'sobre': 2, 'sé': 1, 'te': 3, 'tejidos': 1, 'tenue': 1, 'tierra': 1, 'toca': 1, 'todas': 2, 'todavía': 1, 'tornadas': 1, 'tú': 8, 'un': 1, 'una': 1, 'vestido': 1, 'vete': 1, 'vive': 1, 'y': 5}\n",
      "{'a': {'a': 3, 'agua': 1, 'al': 2, 'alba': 4, 'alcobas': 1, 'alimenta': 1, 'alma': 1, 'amarga': 1, 'azucena': 1}, 'b': {'baco': 1, 'banquete': 1, 'bebe': 1, 'blanca': 3, 'boca': 1, 'bosques': 1, 'buen': 1}, 'c': {'cabañas': 1, 'carnes': 2, 'casta': 3, 'cerrada': 1, 'con': 4, 'conservas': 1, 'copas': 1, 'corola': 1, 'corriste': 1, 'cuando': 2, 'cubierto': 1, 'cuerpo': 1, 'cuáles': 1}, 'd': {'de': 8, 'dejaste': 1, 'del': 1, 'diga': 1, 'dios': 2, 'duerme': 1}, 'e': {'el': 4, 'ellas': 1, 'en': 4, 'engaño': 1, 'enredada': 1, 'entonces': 1, 'escarcha': 1, 'espumas': 1, 'esqueleto': 1, 'estrago': 1}, 'f': {'festejando': 1, 'filtrado': 1, 'frutos': 1}, 'h': {'habla': 1, 'hacia': 1, 'haya': 1, 'hayas': 1, 'hermana': 1, 'hombre': 1, 'hubiste': 1, 'huye': 1}, 'i': {'intacto': 1}, 'j': {'jardines': 1}, 'l': {'la': 3, 'labios': 1, 'las': 7, 'lo': 2, 'los': 4, 'luna': 1, 'lévate': 1, 'límpiate': 1}, 'm': {'mano': 1, 'manos': 1, 'margarita': 1, 'me': 10, 'mi': 1, 'mieles': 1, 'milagros': 1, 'mojada': 1, 'montaña': 1, 'morados': 1}, 'n': {'negros': 1, 'ni': 2, 'no': 1, 'nácar': 1, 'nívea': 2}, 'p': {'perdone)': 2, 'perfume': 1, 'por': 2, 'pretendes': 3, 'preténdeme': 3, 'puesto': 1, 'pájaros': 1, 'pámpanos': 1}, 'q': {'que': 6, 'quedó': 1, 'quieres': 6}, 'r': {'rayo': 1, 'raíz': 1, 'renueva': 1, 'rocas': 1, 'rojo': 1}, 's': {'salitre': 1, 'se': 2, 'sea': 1, 'sean': 1, 'sobre': 2, 'sé': 1}, 't': {'te': 3, 'tejidos': 1, 'tenue': 1, 'tierra': 1, 'toca': 1, 'todas': 2, 'todavía': 1, 'tornadas': 1, 'tú': 8}, 'u': {'un': 1, 'una': 1}, 'v': {'vestido': 1, 'vete': 1, 'vive': 1}, 'y': {'y': 5}}\n"
     ]
    }
   ],
   "source": [
    "# 1. leer el fichero y sacar una lista de palabras \n",
    "# 2. ordenar alfabeticamente \n",
    "# 3. dentro de un bucle meter las palabras y la cantidad de veces que aparece esa palabra en un diccionaro \n",
    "# 4. crear otro diccionario con todas las letras del abecedario \n",
    "# 3. insertar las palabras por calve \n",
    "\n",
    "with open(\"tu_me_quieres_blanca.txt\", \"r\", encoding=\"utf-8\") as poema: # abro el .txt y lo leo\n",
    "    contenido_poema = poema.read()  # convierto el contenido del poema en una cadena de texto\n",
    "    contenido_poema_limpio = contenido_poema.replace(\",\", \"\").replace(\".\", \"\").replace(\"(\", \"\").replace(\"¡\", \"\").replace(\"!\", \"\").replace(\":\", \"\").replace(\";\", \"\")  # reemplazo las comas, los puntos, los parentesis y los signos de interrogacion por espacios vacios \n",
    "    \n",
    "\n",
    "# Funcion para contar las veces en que aparece una palabra en un texto, el output es un diccionario\n",
    "\n",
    "def contador_palabras_texto(texto):\n",
    "    \n",
    "    palabras = texto.split()\n",
    "    palabras_minusculas = [palabra.lower() for palabra in palabras] # convierto todas las palabras a minúsculas\n",
    "    print(\"Cantidad total de palabras en el texto:\", len(palabras_minusculas)) \n",
    "    \n",
    "    diccionario_palabras = {} # diccionario vacio\n",
    "\n",
    "    for x in palabras_minusculas:\n",
    "        if x in diccionario_palabras:\n",
    "            diccionario_palabras[x] += 1\n",
    "        else: \n",
    "          diccionario_palabras [x] = 1        \n",
    "          \n",
    "    return diccionario_palabras\n",
    "     \n",
    "diccionario = contador_palabras_texto(contenido_poema_limpio) # el output de la funcion contador_palabras_texto lo guardo en la variable diccionario\n",
    "\n",
    "diccionario_ordenado = {clave: diccionario[clave] for clave in sorted(diccionario.keys())} # ordeno alfabeticamente con sorted las palabras que estan dentro del diccionario \n",
    "print(diccionario_ordenado)\n",
    "\n",
    "import string\n",
    "\n",
    "# Crear un diccionario con todas las letras del abecedario como claves y valores vacíos\n",
    "diccionario_palabras_2 = {letra: {} for letra in string.ascii_lowercase}\n",
    "\n",
    "# Insertar palabras en el diccionario correspondiente según su letra inicial\n",
    "for clave, valor in diccionario.items():\n",
    "    primera_letra = clave[0] # Obtener la primera letra\n",
    "    if primera_letra in diccionario_palabras_2:  # Verificar si es una letra válida\n",
    "        diccionario_palabras_2[primera_letra][clave] = valor  # Insertar en la categoría correcta\n",
    "        #diccionario_ordenado_2 = {clave: diccionario_palabras_2[clave] for clave in sorted(diccionario.keys())}\n",
    "\n",
    "# Ordenar las palabras dentro de cada diccionario (subdiccionario) alfabéticamente\n",
    "for letra in diccionario_palabras_2:\n",
    "    diccionario_palabras_2[letra] = dict(sorted(diccionario_palabras_2[letra].items()))       \n",
    "\n",
    "# Eliminar letras que quedaron vacías (opcional)\n",
    "diccionario_palabras_2 = {k: v for k, v in diccionario_palabras_2.items() if v}\n",
    "\n",
    "# Imprimir el resultado\n",
    "print(diccionario_palabras_2)\n"
   ]
  }
 ],
 "metadata": {
  "kernelspec": {
   "display_name": "Python 3",
   "language": "python",
   "name": "python3"
  },
  "language_info": {
   "codemirror_mode": {
    "name": "ipython",
    "version": 3
   },
   "file_extension": ".py",
   "mimetype": "text/x-python",
   "name": "python",
   "nbconvert_exporter": "python",
   "pygments_lexer": "ipython3",
   "version": "3.10.12"
  }
 },
 "nbformat": 4,
 "nbformat_minor": 2
}
