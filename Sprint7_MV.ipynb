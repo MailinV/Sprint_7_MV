{
 "cells": [
  {
   "cell_type": "markdown",
   "metadata": {},
   "source": [
    "## Nivel 1\n",
    "***\n",
    "** Ejercicio 1 <br>\n",
    "\n",
    "** Calculadora de l'índex de massa corporal<br>\n",
    "\n",
    "Escriu una funció que calculi l'IMC ingressat per l'usuari/ària, és a dir, qui ho executi haurà d'ingressar aquestes dades.<br> Pots obtenir més informació del seu càlcul en:\n",
    "* -> Índice de masa corporal IMC que es y como se calcula.<br>\n",
    "La funció ha de classificar el resultat en les seves respectives categories"
   ]
  },
  {
   "cell_type": "markdown",
   "metadata": {},
   "source": [
    "** Explicación del código:\n",
    "\n",
    "1. Para realizar este ejercicio he creado la función indice_masa_corporal, la cual consta de dos parametros, peso y altura, para realizar el cálculo del IMC.\n",
    "\n",
    "2. La fórmula que la función utiliza para realizar el cálculo es IMC = round((peso/(altura**2)),1).\n",
    "\n",
    "* -> Donde \"peso\" se divide entre la altura elevada al cuadrado. También he utilizando la función round(), para redonderar el resultado a 1 decimal.\n",
    "\n",
    "3. Para definir los rangos del índice de masa corporal, he utilizado los condicionales if y elseif\n",
    "\n",
    "* -> En el primer if se especifica que si el resultado está por debajo de 18.5, será considerado peso inferior al normal.\n",
    "* -> En el primer elif se especifica que si el resultado es menor o igual de 24.9, será considerado peso normal.\n",
    "* -> En el segundo elif se especifica que si el resultado es menor o igual de 29.9, será considerado peso superior al normal.\n",
    "* -> En el else se indica que si el IMC analizado no está dentro de las categorias especificadas enteriormente, entonces será considerado como obesidad. \n",
    "\n",
    "\n",
    "4. Para gestionar las entradas no válidas, introduje un bloque try-except en los datos de entrada, al mismo tiempo que llamo a la función.\n",
    "\n",
    "* -> Donde, si los datos no son float, se muestra un mensaje de error, y se especifica que las entradas deben ser números float.\n"
   ]
  },
  {
   "cell_type": "code",
   "execution_count": 29,
   "metadata": {},
   "outputs": [
    {
     "name": "stdout",
     "output_type": "stream",
     "text": [
      "Tu IMC es: 26.6\n",
      "su peso es superior al normal\n"
     ]
    }
   ],
   "source": [
    "def indice_masa_corporal(peso,altura):\n",
    "   IMC = round((peso/(altura**2)),1)\n",
    "   print(\"Tu IMC es:\",IMC,)\n",
    "   \n",
    "   if IMC < 18.5:\n",
    "    print(\"su peso es inferior al normal\")\n",
    "   elif IMC <= 24.9:\n",
    "    print(\"su peso es normal\")\n",
    "   elif IMC <= 29.9:\n",
    "    print(\"su peso es superior al normal\")\n",
    "   else:\n",
    "    print(\"obesidad\")\n",
    "\n",
    "try:\n",
    " indice_masa_corporal(float(input ('dime tu peso en kg')),float(input ('dime tu altura en metros')))\n",
    "except ValueError:\n",
    "    print(\"valor erroneo.\\n\" + \"Por favor escribe tu peso y tu altura como un numero decimal.\")\n"
   ]
  },
  {
   "cell_type": "markdown",
   "metadata": {},
   "source": [
    "** Ejercicio 2 <br>\n",
    "\n",
    "** Convertidor de temperatures.<br>\n",
    "\n",
    "Existeixen diverses unitats de temperatura utilitzades en diferents contextos i regions. Les més comunes són Celsius (°C), Fahrenheit (°F) i Kelvin (K). <br> També existeixen altres unitats com Rankine (°Ra) i Réaumur (°Re). Selecciona almenys 2 conversors, de tal manera que en introduir una temperatura retorni, com a mínim, dues conversions."
   ]
  },
  {
   "cell_type": "markdown",
   "metadata": {},
   "source": [
    "** Explicación del código:\n",
    "\n",
    "1. Para realizar este ejercicio he creado la función temperatura, la cual consta de un parametro, temp, para realizar el cálculo de la temperatura en diferentes unidades.\n",
    "\n",
    "2. Formulas para convertir la temperatura en diferentes unidades\n",
    "La fórmula que la función utiliza para realizar el cálculo en grados fahrenheit es Fahrenheit = (temp*1.8)+32.\n",
    "La fórmula que la función utiliza para realizar el cálculo en grados rankine es Rankine = (temp*1.8) + 491.67.\n",
    "La fórmula que la función utiliza para realizar el cálculo en grados newton es Newton = (temp* 3.0303).\n",
    "La fórmula que la función utiliza para realizar el cálculo en Kelvin es Kelvin = (temp+ 273.15).\n",
    "\n",
    "3. Para gestionar las entradas no válidas, introduje un bloque try-except cuando hago el llamado a la función, dentro de la cual se encuentra el promp que solicita los datos de entrada.\n",
    "\n",
    "* -> Donde, si los datos no son float, se muestra un mensaje de error, y se especifica que las entradas deben ser números float.\n"
   ]
  },
  {
   "cell_type": "code",
   "execution_count": 30,
   "metadata": {},
   "outputs": [
    {
     "name": "stdout",
     "output_type": "stream",
     "text": [
      "La temperatura en Fahrenheit es: 77.00 ºF\n",
      "La temperatura en Rankine es: 536.67 ºRa\n",
      "La temperatura en Newton es: 75.76 ºN\n",
      "La temperatura en Kelvin es: 298.15 k\n"
     ]
    }
   ],
   "source": [
    "def temperatura(temp):\n",
    "   Fahrenheit = (temp*1.8)+32\n",
    "   print(f\"La temperatura en Fahrenheit es: {Fahrenheit:.2f} ºF\")\n",
    "   Rankine = (temp*1.8) + 491.67\n",
    "   print(f\"La temperatura en Rankine es: {Rankine:.2f} ºRa\")\n",
    "   Newton = (temp* 3.0303)\n",
    "   print(f\"La temperatura en Newton es: {Newton:.2f} ºN\")\n",
    "   Kelvin = (temp+ 273.15)\n",
    "   print(f\"La temperatura en Kelvin es: {Kelvin:.2f} k\")\n",
    "\n",
    "try:\n",
    " temperatura(float(input ('dime la temperatura en grados celcius')))\n",
    "except ValueError:\n",
    "    print(\"valor erroneo.\\n\" + \"Por favor escribe tu peso y tu altura como un numero decimal.\")"
   ]
  },
  {
   "cell_type": "markdown",
   "metadata": {},
   "source": [
    "** Ejercicio 3 <br>\n",
    "\n",
    "** Comptador de paraules d'un text.<br>\n",
    "\n",
    "Escriu una funció que donat un text, mostri les vegades que apareix cada paraula.\n",
    "\n"
   ]
  },
  {
   "cell_type": "markdown",
   "metadata": {},
   "source": [
    "** Explicación del código:\n",
    "\n",
    "1. Para realizar este ejercicio he creado la función contador_oalabras_texto, la cual consta de un parametro, texto, para contar las palabras de un texto.\n",
    "\n",
    "2. Limieza y transformación:\n",
    "* -> Convierto todas las letras a minuscula, para evitar que las palabaras que llevan letras mayusculas sean reconocidas como una palabara nueva. \n",
    "* -> Creo la lista simbolos, que contiene los simbolos m´ss comunes utilizados a la hoara de escribir, para evitar que por una palabar escrita con un simbolo, ésta sea identificada como una palabra nueva \n",
    "* -> Con un bucle for, recorro las palabras del texto para eliminar los simbolos y reemplazarlos por una cadena vacía\n",
    "\n",
    "3. Divido el texto en palabras con split y cuento la cantidad total de palabras del texto con len\n",
    "\n",
    "4. Creo un diccionario llamado diccionario_palabras para almacenar cada palabra, como clave, y el número de veces en que la palabra aparece, como valor.\n",
    "\n",
    "5. Creo un bucle para buscar las palabras y, si se repiten, sumo 1 a su frecuencia por cada repetición; en caso contrario, su frecuencia será 1 \n",
    "\n",
    "6. Imprimo el diccionario_palabras\n",
    "\n",
    "7. Llamo a la función \n"
   ]
  },
  {
   "cell_type": "code",
   "execution_count": 32,
   "metadata": {},
   "outputs": [
    {
     "name": "stdout",
     "output_type": "stream",
     "text": [
      "Cantidad total de palabras en el texto: 4\n",
      "{'la': 2, 'niña': 2}\n"
     ]
    }
   ],
   "source": [
    "def contador_palabras_texto(texto):\n",
    "    \n",
    "    texto = texto.lower()\n",
    "    \n",
    "    simbolos = [\",\", \".\", \";\", \":\", \"'\", '\"', \"¿\", \"?\", \"¡\", \"!\", \"(\", \")\"]\n",
    "    for symbol in simbolos:\n",
    "        texto = texto.replace(symbol, \"\")\n",
    "        \n",
    "    palabras = texto.split()\n",
    "    contador_de_palabras = len(palabras)\n",
    "    print(\"Cantidad total de palabras en el texto:\", contador_de_palabras)\n",
    "    \n",
    "    diccionario_palabras = {}\n",
    "\n",
    "    for x in palabras:\n",
    "        if x in diccionario_palabras:\n",
    "            diccionario_palabras[x] += 1\n",
    "        else: \n",
    "          diccionario_palabras [x] = 1        \n",
    "\n",
    "    print(diccionario_palabras) \n",
    "\n",
    "\n",
    "contador_palabras_texto(input(\"Escribe un texto: \"))\n"
   ]
  },
  {
   "cell_type": "markdown",
   "metadata": {},
   "source": [
    "** Ejercicio 4 <br>\n",
    "\n",
    "** Diccionari invers.\n",
    "\n",
    "Resulta que el client té una enquesta molt antiga que s'emmagatzema en un diccionari i els resultats els necessita al revés, és a dir, intercanviats les claus i els valors. <br> Els valors i claus en el diccionari original són únics; si aquest no és el cas, la funció hauria d'imprimir un missatge d'advertiment."
   ]
  },
  {
   "cell_type": "markdown",
   "metadata": {},
   "source": [
    "** Explicación del código:\n",
    "\n",
    "1. Para realizar este ejercicio he creado la función interc_keys_values, la cual consta de un parametro, dictionary.\n",
    "\n",
    "2. convierto los valores de dictionary en una lista en la que compruebo si la longitud de los valores en la lista es diferente a la longitud de los valores en el set(no permite valores repetidos). Cuando las longitudes son diferentes entonces me imprime la advertencia: \"existen multiples valores para una clave\". En caso de que las losgitudes sean iguales me crea el reverse_dictionary\n",
    "\n",
    "3. Creo dictionary_semana, con una actividad para realizar cada dia de la semana. Posteriormente añado una clave y un valor nuevo al diccionario, donde el valor pasear se repite. \n",
    "\n",
    "4. Llamo a la función y visualizo el dictionary_semana y reverse_dictionary"
   ]
  },
  {
   "cell_type": "code",
   "execution_count": 7,
   "metadata": {},
   "outputs": [
    {
     "name": "stdout",
     "output_type": "stream",
     "text": [
      "Diccionario inicial: {'lunes': 'sonreir', 'martes': 'cantar', 'miercoles': 'bailar', 'jueves': 'rezar', 'viernes': 'agradecer', 'sabado': 'nadar', 'domingo': 'pasear'}\n",
      "Diccionario invertido: {'sonreir': 'lunes', 'cantar': 'martes', 'bailar': 'miercoles', 'rezar': 'jueves', 'agradecer': 'viernes', 'nadar': 'sabado', 'pasear': 'domingo'}\n"
     ]
    }
   ],
   "source": [
    "def interc_keys_values(dictionary):\n",
    "   \n",
    "   reverse_dictionary = {}\n",
    "\n",
    "   valores = list(dictionary.values()) \n",
    "   if len(valores) != len(set(valores)):  \n",
    "    print(\"existen multiples valores para una clave\") \n",
    "   else:\n",
    "    reverse_dictionary = {v: k for k, v in dictionary.items()} \n",
    "   return reverse_dictionary\n",
    "\n",
    "dictionary_semana = ({'lunes':\"sonreir\", 'martes':\"cantar\", 'miercoles':\"bailar\", 'jueves':\"rezar\", 'viernes':\"agradecer\", 'sabado':\"nadar\", 'domingo':\"pasear\"}) \n",
    "#dictionary_semana[\"domingo_noche\"] = \"pasear\" \n",
    "\n",
    "reverse_dictionary = interc_keys_values (dictionary_semana)\n",
    "if reverse_dictionary:\n",
    "   print(\"Diccionario inicial:\", dictionary_semana)\n",
    "   print(\"Diccionario invertido:\", reverse_dictionary)\n",
    "   "
   ]
  },
  {
   "cell_type": "markdown",
   "metadata": {},
   "source": [
    "## Nivel 2\n",
    "***\n",
    "** Ejercicio 1 <br>\n",
    "\n",
    "** Diccionari invers amb duplicats\n",
    "\n",
    "Continuant amb l'exercici 4 del nivell 1: al client es va oblidar de comentar un detall i resulta que els valors en el diccionari original poden duplicar-se i més,<br> per la qual cosa les claus intercanviades poden tenir duplicats. En aquest cas, en l'exercici anterior imprimies un missatge d'advertiment, ara, <br>els valors del diccionari resultant hauran d'emmagatzemar-se com una llista.<br> Tingues en compte que si és un valor únic no ha de ser una llista."
   ]
  },
  {
   "cell_type": "markdown",
   "metadata": {},
   "source": [
    "** Explicación del código:\n",
    "\n",
    "1. Para realizar este ejercicio he utilizado la función intercambiar_keys_values, la cual consta de un parametro, dictionary.\n",
    "\n",
    "2. Creo el reverse_dictionary vacio a rellenar \n",
    "\n",
    "3. Con un bucle for recorro el dictionany con dos condicionales:\n",
    "* -> El primer condicional para comprobar si el valor que está iterando ya está en el reverse_dictionary, en caso de que si, entra en el segundo condicional.\n",
    "* -> En el segundo condicional, compruebo si el valor es una lista y en caso de que si, añado la clave en esa lista con append. En caso de que el valor no sea una       lista, convierte el valor único en una lista que contiene: el valor original y la clave nueva. \n",
    "* -> Si el valor no esta en en reverse_dictionary, añado el valor como una nueva entrada en el reverse_dictionary con la clave actual.\n",
    "\n",
    "3. Creo dictionary_semana, con una actividad para realizar cada dia de la semana. Posteriormente añado una clave y un valor nuevo al diccionario, donde el valor pasear se repite. \n",
    "\n",
    "4. Llamo a la función y visualizo el dictionary_semana y reverse_dictionary"
   ]
  },
  {
   "cell_type": "code",
   "execution_count": 9,
   "metadata": {},
   "outputs": [
    {
     "name": "stdout",
     "output_type": "stream",
     "text": [
      "Diccionario inicial: {'lunes': 'sonreir', 'martes': 'cantar', 'miercoles': 'bailar', 'jueves': 'rezar', 'viernes': 'agradecer', 'sabado': 'nadar', 'domingo': 'pasear', 'domingo noche': 'pasear'}\n",
      "Diccionario invertido: {'sonreir': 'lunes', 'cantar': 'martes', 'bailar': 'miercoles', 'rezar': 'jueves', 'agradecer': 'viernes', 'nadar': 'sabado', 'pasear': ['domingo', 'domingo noche']}\n"
     ]
    }
   ],
   "source": [
    "def intercambiar_keys_values(dictionary):\n",
    "\n",
    "    reverse_dictionary = {} \n",
    "\n",
    "    for clave, valor in dictionary.items():\n",
    "        if valor in reverse_dictionary: \n",
    "            if isinstance(reverse_dictionary[valor], list): \n",
    "                reverse_dictionary[valor].append(clave) \n",
    "            else: \n",
    "                reverse_dictionary[valor] = [reverse_dictionary[valor], clave] \n",
    "        else: \n",
    "            reverse_dictionary[valor] = clave \n",
    "    \n",
    "    return reverse_dictionary \n",
    "\n",
    "dictionary_semana = ({'lunes':\"sonreir\", 'martes':\"cantar\", 'miercoles':\"bailar\", 'jueves':\"rezar\", 'viernes':\"agradecer\", 'sabado':\"nadar\", 'domingo':\"pasear\"}) # diccionario origial\n",
    "dictionary_semana[\"domingo noche\"] = \"pasear\" \n",
    "\n",
    "reverse_dictionary = intercambiar_keys_values(dictionary_semana)\n",
    "print(\"Diccionario inicial:\", dictionary_semana)\n",
    "print(\"Diccionario invertido:\", reverse_dictionary)\n"
   ]
  },
  {
   "cell_type": "markdown",
   "metadata": {},
   "source": [
    "** Ejercicio 2 <br>\n",
    "\n",
    "** Conversió de tipus de dades\n",
    "\n",
    "El client rep una llista de dades i necessita generar dues llistes, la primera on estaran tots els elements que es van poder convertir en flotants <br> i l'altra on estan els elements que no es van poder convertir. Exemple de la llista que rep el client:<br> [ '1.3', 'one' , '1e10' , 'seven', '3-1/2', ('2',1,1.4,'not-a-number'), [1,2,'3','3.4']]"
   ]
  },
  {
   "cell_type": "markdown",
   "metadata": {},
   "source": [
    "** Explicación del código:\n",
    "\n",
    "1. Defino la lista de datos inicial\n",
    "\n",
    "2. Creo dos listas vacías: una para los datos convertibles (lista_float) y otra para los no convertibles (lista_no_float).\n",
    "\n",
    "3. Definido la función convertir_dato_a_float, la cual consta de un parametro, dato.\n",
    "\n",
    "4. Después, recorro la lista_datos_inicial con un bucle for:\n",
    "\n",
    "* -> Si el dato es una lista o tupla, la función se llama a sí misma para procesar los subdatos. Si los subdatos de pueden convertir, los agrega a la lista_float, si los datos no se pueden convertir los agrega a lista_no_float. \n",
    "* -> Si el dato no es ni lista ni tupla, intenta convertirlo a float.\n",
    "* -> Si la conversión es exitosa, el dato se agrega a la lista_float.\n",
    "* -> Si la conversión falla, el dato se agrega a la lista_no_float.\n",
    "\n",
    "5. Finalmente, imprimo las dos listas resultantes: una con los elementos convertibles y otra con los no convertibles."
   ]
  },
  {
   "cell_type": "code",
   "execution_count": 10,
   "metadata": {},
   "outputs": [
    {
     "name": "stdout",
     "output_type": "stream",
     "text": [
      "Lista de datos que se pueden convertir en flotantes: [1.3, 10000000000.0, 2.0, 1.0, 1.4, 1.0, 2.0, 3.0, 3.4]\n",
      "Lista de datos que NO se pueden convertir en flotantes: ['one', 'seven', '3-1/2', 'not-a-number']\n"
     ]
    }
   ],
   "source": [
    "lista_datos_inicial = [ '1.3', 'one' , '1e10' , 'seven', '3-1/2', ('2',1,1.4,'not-a-number'), [1,2,'3','3.4']]\n",
    "\n",
    "lista_float = []\n",
    "lista_no_float = []\n",
    "\n",
    "def convertir_dato_a_float(dato):\n",
    "    try:\n",
    "       float(dato)\n",
    "       return True\n",
    "    except ValueError:\n",
    "       return False\n",
    "        \n",
    "for dato in lista_datos_inicial:\n",
    "        if isinstance(dato,tuple) or isinstance(dato,list):\n",
    "            for lista_o_tupla in dato: #Recorro las tuplas o listas dentro de la lista_original\n",
    "                if(convertir_dato_a_float(lista_o_tupla)) == True: #Llamo a la función para consultar si ese valor se puede convertir en float y me duelve TRUE o FALSE\n",
    "                    lista_o_tupla = float(lista_o_tupla) #Si es True: Convierto el valor a tipo float\n",
    "                    lista_float.append(lista_o_tupla) #Lo inserto en la \"lista_float\"\n",
    "                else: #En caso de ser False\n",
    "                    lista_no_float.append(lista_o_tupla) #Lo inserto en la \"lista_otros\"\n",
    "        else: #Si son valores que NO sean tuplas o listas (int, float, str)\n",
    "            convertir_dato_a_float(dato) #Se lo envío a la función para detectar si es convertible a float, me devuelve True o False\n",
    "            if (convertir_dato_a_float(dato)) == True: #Si es convertible a float, lo agrega a la lista_float\n",
    "                dato = float(dato) #Convierto el valor a tipo float\n",
    "                lista_float.append(dato) #Lo inserto en la \"lista_float\"\n",
    "            else: #En caso contrario\n",
    "                lista_no_float.append(dato) #Lo inserto en lista_otros\n",
    "  \n",
    "\n",
    "print(\"Lista de datos que se pueden convertir en flotantes:\", lista_float)\n",
    "print(\"Lista de datos que NO se pueden convertir en flotantes:\", lista_no_float)\n"
   ]
  },
  {
   "cell_type": "markdown",
   "metadata": {},
   "source": [
    "## Nivel 3\n",
    "***\n",
    "** Ejercicio 1 <br>\n",
    "\n",
    "** Comptador i endreçador de paraules d'un text.\n",
    "\n",
    "El client va quedar content amb el comptador de paraules, però ara vol llegir arxius TXT i que calculi la freqüència de cada paraula ordenades <br> dins de les entrades habituals del diccionari segons la lletra amb la qual comencen, és a dir, les claus han d'anar de la A a la Z i dins de la A hem d'anar de la A la Z.<br> Per exemple, per a l'arxiu \"tu_me_quieres_blanca.txt\" la sortida esperada seria:"
   ]
  },
  {
   "cell_type": "markdown",
   "metadata": {},
   "source": [
    "** Explicación del código:\n",
    "\n",
    "1. Abro el .txt, lo leo y convierto el contenido del poema en una cadena de texto, es decir en una lista de palabras\n",
    "\n",
    "2. Reutilizo la funcion ontador_palabras_texto del ejercicio 3 nivel 1 para contar las veces en que aparece cada palabra en el texto. \n",
    "\n",
    "3. Ordeno alfabeticamente el output de la funcion anteior y lo guardo como diccionario_ordenado\n",
    "\n",
    "4. Crear otro diccionario, iccionario_palabras_2, con todas las letras del abecedario como claves y valores vacíos\n",
    "\n",
    "5. Inserto palabras por clave en el diccionario_palabras_2 según su letra inicial.\n",
    "\n",
    "6. Ordeno las palabras dentro de cada diccionario (subdiccionario) alfabéticamente.\n",
    "\n",
    "7. Elimino las letras del abecedario que quedaron vacías (opcional)\n",
    "\n",
    "8. Imprimo el resultado."
   ]
  },
  {
   "cell_type": "code",
   "execution_count": 16,
   "metadata": {},
   "outputs": [
    {
     "name": "stdout",
     "output_type": "stream",
     "text": [
      "Cantidad total de palabras en el texto: 202\n",
      "{'a': {'a': 3, 'agua': 1, 'al': 2, 'alba': 4, 'alcobas': 1, 'alimenta': 1, 'alma': 1, 'amarga': 1, 'azucena': 1}, 'b': {'baco': 1, 'banquete': 1, 'bebe': 1, 'blanca': 3, 'boca': 1, 'bosques': 1, 'buen': 1}, 'c': {'cabañas': 1, 'carnes': 2, 'casta': 3, 'cerrada': 1, 'con': 4, 'conservas': 1, 'copas': 1, 'corola': 1, 'corriste': 1, 'cuando': 2, 'cubierto': 1, 'cuerpo': 1, 'cuáles': 1}, 'd': {'de': 8, 'dejaste': 1, 'del': 1, 'diga': 1, 'dios': 2, 'duerme': 1}, 'e': {'el': 4, 'ellas': 1, 'en': 4, 'engaño': 1, 'enredada': 1, 'entonces': 1, 'escarcha': 1, 'espumas': 1, 'esqueleto': 1, 'estrago': 1}, 'f': {'festejando': 1, 'filtrado': 1, 'frutos': 1}, 'h': {'habla': 1, 'hacia': 1, 'haya': 1, 'hayas': 1, 'hermana': 1, 'hombre': 1, 'hubiste': 1, 'huye': 1}, 'i': {'intacto': 1}, 'j': {'jardines': 1}, 'l': {'la': 3, 'labios': 1, 'las': 7, 'lo': 2, 'los': 4, 'luna': 1, 'lévate': 1, 'límpiate': 1}, 'm': {'mano': 1, 'manos': 1, 'margarita': 1, 'me': 10, 'mi': 1, 'mieles': 1, 'milagros': 1, 'mojada': 1, 'montaña': 1, 'morados': 1}, 'n': {'negros': 1, 'ni': 2, 'no': 1, 'nácar': 1, 'nívea': 2}, 'p': {'perdone': 2, 'perfume': 1, 'por': 2, 'pretendes': 3, 'preténdeme': 3, 'puesto': 1, 'pájaros': 1, 'pámpanos': 1}, 'q': {'que': 6, 'quedó': 1, 'quieres': 6}, 'r': {'rayo': 1, 'raíz': 1, 'renueva': 1, 'rocas': 1, 'rojo': 1}, 's': {'salitre': 1, 'se': 2, 'sea': 1, 'sean': 1, 'sobre': 2, 'sé': 1}, 't': {'te': 3, 'tejidos': 1, 'tenue': 1, 'tierra': 1, 'toca': 1, 'todas': 2, 'todavía': 1, 'tornadas': 1, 'tú': 8}, 'u': {'un': 1, 'una': 1}, 'v': {'vestido': 1, 'vete': 1, 'vive': 1}, 'y': {'y': 5}}\n"
     ]
    }
   ],
   "source": [
    "with open(\"tu_me_quieres_blanca.txt\", \"r\", encoding=\"utf-8\") as poema: # \n",
    "    contenido_poema = poema.read()  \n",
    "    \n",
    "def contador_palabras_texto(texto):\n",
    "    \n",
    "    texto = texto.lower()\n",
    "    \n",
    "    simbolos = [\",\", \".\", \";\", \":\", \"'\", '\"', \"¿\", \"?\", \"¡\", \"!\", \"(\", \")\"]\n",
    "    for symbol in simbolos:\n",
    "        texto = texto.replace(symbol, \"\")\n",
    "        \n",
    "    palabras = texto.split()\n",
    "    contador_de_palabras = len(palabras)\n",
    "    print(\"Cantidad total de palabras en el texto:\", contador_de_palabras)\n",
    "    \n",
    "    diccionario_palabras = {}\n",
    "\n",
    "    for x in palabras:\n",
    "        if x in diccionario_palabras:\n",
    "            diccionario_palabras[x] += 1\n",
    "        else: \n",
    "          diccionario_palabras [x] = 1        \n",
    "\n",
    "    return diccionario_palabras \n",
    "\n",
    "diccionario = contador_palabras_texto(contenido_poema) \n",
    "\n",
    "diccionario_ordenado = {clave: diccionario[clave] for clave in sorted(diccionario.keys())} \n",
    "\n",
    "import string\n",
    "\n",
    "diccionario_palabras_2 = {letra: {} for letra in string.ascii_lowercase}\n",
    "\n",
    "for clave, valor in diccionario.items():\n",
    "    primera_letra = clave[0] \n",
    "    if primera_letra in diccionario_palabras_2:  \n",
    "        diccionario_palabras_2[primera_letra][clave] = valor  \n",
    "        \n",
    "for letra in diccionario_palabras_2:\n",
    "    diccionario_palabras_2[letra] = dict(sorted(diccionario_palabras_2[letra].items()))       \n",
    "\n",
    "diccionario_palabras_2 = {k: v for k, v in diccionario_palabras_2.items() if v}\n",
    "\n",
    "print(diccionario_palabras_2)\n"
   ]
  }
 ],
 "metadata": {
  "kernelspec": {
   "display_name": "Python 3",
   "language": "python",
   "name": "python3"
  },
  "language_info": {
   "codemirror_mode": {
    "name": "ipython",
    "version": 3
   },
   "file_extension": ".py",
   "mimetype": "text/x-python",
   "name": "python",
   "nbconvert_exporter": "python",
   "pygments_lexer": "ipython3",
   "version": "3.10.12"
  }
 },
 "nbformat": 4,
 "nbformat_minor": 2
}
