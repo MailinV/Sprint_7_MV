{
 "cells": [
  {
   "cell_type": "markdown",
   "metadata": {},
   "source": [
    "## Nivel 1\n",
    "***\n",
    "** Ejercicio 1 <br>\n",
    "\n",
    "** Calculadora de l'índex de massa corporal<br>\n",
    "\n",
    "Escriu una funció que calculi l'IMC ingressat per l'usuari/ària, és a dir, qui ho executi haurà d'ingressar aquestes dades.<br> Pots obtenir més informació del seu càlcul en:\n",
    "* -> Índice de masa corporal IMC que es y como se calcula.<br>\n",
    "La funció ha de classificar el resultat en les seves respectives categories"
   ]
  },
  {
   "cell_type": "markdown",
   "metadata": {},
   "source": [
    "** Explicación del código:\n",
    "\n",
    "1. Para realizar este ejercicio he creado la función calcular_imc\n",
    "2. Inicio el bloque try para manejar posibles errores al ingresar los valores de peso y altura.\n",
    "3. Solicito al usuario que introduzca su peso en kilogramos y su altura en metros.\n",
    "4. Realizo el calculo del IMC = round((peso/(altura**2)),1).\n",
    "   * -> Donde \"peso\" se divide entre la altura elevada al cuadrado. También he utilizando la función round(), para redonderar el resultado a 1 decimal.\n",
    "5. Categorias del IMC: para definir los rangos del índice de masa corporal, he utilizado los condicionales if y elseif\n",
    "   * -> En el primer if se especifica que si el resultado está por debajo de 18.5, será considerado peso inferior al normal.\n",
    "   * -> En el primer elif se especifica que si el resultado es menor o igual de 24.9, será considerado peso normal.\n",
    "   * -> En el segundo elif se especifica que si el resultado es menor o igual de 29.9, será considerado peso superior al normal.\n",
    "   * -> En el else se indica que si el IMC analizado no está dentro de las categorias especificadas enteriormente, entonces será considerado como obesidad. \n",
    "6. Almaceno el IMC y la categoría en un diccionario llamado indice_masa_corporal. \n",
    "7. Imprimo los resultados\n",
    "8. La función calcular_imc devuelve el diccionario indice_masa_corporal con los valores calculados con el return\n",
    "9. Gestiono las entradas no válidas\n",
    "   * -> Donde, si los datos no son float, se muestra un mensaje de error, y se especifica que las entradas deben ser números float.\n",
    "8. Llamo a la función calcular_imc() y almaceno el resultado en imc_resultado"
   ]
  },
  {
   "cell_type": "code",
   "execution_count": 1,
   "metadata": {},
   "outputs": [
    {
     "name": "stdout",
     "output_type": "stream",
     "text": [
      "Tu IMC es: 27.3\n",
      "Su peso es superior al normal\n"
     ]
    }
   ],
   "source": [
    "def calcular_imc():\n",
    "    try:\n",
    "        peso = float(input('Dime tu peso en kg: '))\n",
    "        altura = float(input('Dime tu altura en metros: '))\n",
    "        \n",
    "        IMC = round((peso / (altura ** 2)), 1)\n",
    "        \n",
    "        if IMC < 18.5:\n",
    "            categoria = \"Su peso es inferior al normal\"\n",
    "        elif IMC <= 24.9:\n",
    "            categoria = \"Su peso es normal\"\n",
    "        elif IMC <= 29.9:\n",
    "            categoria = \"Su peso es superior al normal\"\n",
    "        else:\n",
    "            categoria = \"Obesidad\"\n",
    "        \n",
    "        indice_masa_corporal = {\n",
    "            \"IMC\": IMC,\n",
    "            \"Categoría\": categoria\n",
    "        }\n",
    "        \n",
    "        print(f\"Tu IMC es: {IMC}\")\n",
    "        print(categoria)\n",
    "        \n",
    "        return indice_masa_corporal\n",
    "    except ValueError:\n",
    "        print(\"Valor erróneo.\\nPor favor, escribe tu peso y tu altura como un número decimal.\")\n",
    "        return None\n",
    "\n",
    "\n",
    "imc_resultado = calcular_imc()\n"
   ]
  },
  {
   "cell_type": "markdown",
   "metadata": {},
   "source": [
    "** Ejercicio 2 <br>\n",
    "\n",
    "** Convertidor de temperatures.<br>\n",
    "\n",
    "Existeixen diverses unitats de temperatura utilitzades en diferents contextos i regions. Les més comunes són Celsius (°C), Fahrenheit (°F) i Kelvin (K). <br> També existeixen altres unitats com Rankine (°Ra) i Réaumur (°Re). Selecciona almenys 2 conversors, de tal manera que en introduir una temperatura retorni, com a mínim, dues conversions."
   ]
  },
  {
   "cell_type": "markdown",
   "metadata": {},
   "source": [
    "** Explicación del código:\n",
    "\n",
    "1. Para realizar este ejercicio he creado la función convertir_temperatura\n",
    "2. Inicio el bloque try para manejar posibles errores al ingresar la temperatura.\n",
    "2. Formulas para convertir la temperatura en diferentes unidades\n",
    "3. Solicito al usuario que ingrese una temperatura en grados Celsius.\n",
    "4. Cálculo de las conversiones y almacenamiento en un diccionario\n",
    "   * -> La fórmula que la función utiliza para realizar el cálculo en grados fahrenheit es Fahrenheit = (temp*1.8)+32.\n",
    "   * -> La fórmula que la función utiliza para realizar el cálculo en grados rankine es Rankine = (temp*1.8) + 491.67.\n",
    "   * -> La fórmula que la función utiliza para realizar el cálculo en grados newton es Newton = (temp* 3.0303).\n",
    "   * -> La fórmula que la función utiliza para realizar el cálculo en Kelvin es Kelvin = (temp+ 273.15).\n",
    "5. Impresión de los resultados utilizando un for que recorre el diccionario temperaturas y se imprimen los valores convertidos junto con su unidad.\n",
    "6. Devolución del diccionario con return, esto permite almacenar y reutilizar los valores en otras partes del programa.\n",
    "7. Gestiono las entradas no válidas\n",
    "   * -> Donde, si los datos no son float, se muestra un mensaje de error, y se especifica que las entradas deben ser números float.\n",
    "8.  Llamo a la función y almaceno el resultado en temperaturas_convertidas"
   ]
  },
  {
   "cell_type": "code",
   "execution_count": 2,
   "metadata": {},
   "outputs": [
    {
     "name": "stdout",
     "output_type": "stream",
     "text": [
      "La temperatura en Fahrenheit es: 77.0 F\n",
      "La temperatura en Rankine es: 536.67 R\n",
      "La temperatura en Newton es: 75.76 N\n",
      "La temperatura en Kelvin es: 298.15 K\n"
     ]
    }
   ],
   "source": [
    "def convertir_temperatura():\n",
    "    try:\n",
    "        temp = float(input('Dime la temperatura en grados Celsius: '))\n",
    "        \n",
    "        temperaturas = {\n",
    "            \"Fahrenheit\": round((temp * 1.8) + 32, 2),\n",
    "            \"Rankine\": round((temp * 1.8) + 491.67, 2),\n",
    "            \"Newton\": round((temp * 3.0303), 2),\n",
    "            \"Kelvin\": round((temp + 273.15), 2)\n",
    "        }\n",
    "        \n",
    "        for escala, valor in temperaturas.items():\n",
    "            print(f\"La temperatura en {escala} es: {valor} {escala[0]}\")\n",
    "        \n",
    "        return temperaturas\n",
    "    \n",
    "    except ValueError:\n",
    "        print(\"Valor erróneo.\\nPor favor, escribe la temperatura como un número decimal.\")\n",
    "        return None\n",
    "\n",
    "# Llamar a la función y almacenar el resultado\n",
    "temperaturas_convertidas = convertir_temperatura()\n"
   ]
  },
  {
   "cell_type": "markdown",
   "metadata": {},
   "source": [
    "** Ejercicio 3 <br>\n",
    "\n",
    "** Comptador de paraules d'un text.<br>\n",
    "\n",
    "Escriu una funció que donat un text, mostri les vegades que apareix cada paraula.\n",
    "\n"
   ]
  },
  {
   "cell_type": "markdown",
   "metadata": {},
   "source": [
    "** Explicación del código:\n",
    "\n",
    "1. Para realizar este ejercicio he creado la función contador_oalabras_texto, la cual consta de un parametro, texto, para contar las palabras de un texto.\n",
    "\n",
    "2. Limpieza y transformación:\n",
    "* -> Convierto todas las letras a minuscula, para evitar que las palabaras que llevan letras mayusculas sean reconocidas como una palabara nueva. \n",
    "* -> Creo la lista simbolos, que contiene los simbolos m´ss comunes utilizados a la hoara de escribir, para evitar que por una palabar escrita con un simbolo, ésta sea identificada como una palabra nueva \n",
    "* -> Con un bucle for, recorro las palabras del texto para eliminar los simbolos y reemplazarlos por una cadena vacía\n",
    "\n",
    "3. Divido el texto en palabras con split y cuento la cantidad total de palabras del texto con len\n",
    "\n",
    "4. Creo un diccionario llamado diccionario_palabras para almacenar cada palabra, como clave, y el número de veces en que la palabra aparece, como valor.\n",
    "\n",
    "5. Creo un bucle para buscar las palabras y, si se repiten, sumo 1 a su frecuencia por cada repetición; en caso contrario, su frecuencia será 1 \n",
    "\n",
    "6. Imprimo el diccionario_palabras\n",
    "\n",
    "7. Llamo a la función \n"
   ]
  },
  {
   "cell_type": "code",
   "execution_count": 3,
   "metadata": {},
   "outputs": [
    {
     "name": "stdout",
     "output_type": "stream",
     "text": [
      "Cantidad total de palabras en el texto: 4\n",
      "{'la': 2, 'niña': 2}\n"
     ]
    }
   ],
   "source": [
    "def contador_palabras_texto(texto):\n",
    "    \n",
    "    texto = texto.lower()\n",
    "    \n",
    "    simbolos = [\",\", \".\", \";\", \":\", \"'\", '\"', \"¿\", \"?\", \"¡\", \"!\", \"(\", \")\"]\n",
    "    for symbol in simbolos:\n",
    "        texto = texto.replace(symbol, \"\")\n",
    "        \n",
    "    palabras = texto.split()\n",
    "    contador_de_palabras = len(palabras)\n",
    "    print(\"Cantidad total de palabras en el texto:\", contador_de_palabras)\n",
    "    \n",
    "    diccionario_palabras = {}\n",
    "\n",
    "    for x in palabras:\n",
    "        if x in diccionario_palabras:\n",
    "            diccionario_palabras[x] += 1\n",
    "        else: \n",
    "          diccionario_palabras [x] = 1        \n",
    "\n",
    "    print(diccionario_palabras) \n",
    "\n",
    "\n",
    "contador_palabras_texto(input(\"Escribe un texto: \"))\n"
   ]
  },
  {
   "cell_type": "markdown",
   "metadata": {},
   "source": [
    "** Ejercicio 4 <br>\n",
    "\n",
    "** Diccionari invers.\n",
    "\n",
    "Resulta que el client té una enquesta molt antiga que s'emmagatzema en un diccionari i els resultats els necessita al revés, és a dir, intercanviats les claus i els valors. <br> Els valors i claus en el diccionari original són únics; si aquest no és el cas, la funció hauria d'imprimir un missatge d'advertiment."
   ]
  },
  {
   "cell_type": "markdown",
   "metadata": {},
   "source": [
    "** Explicación del código:\n",
    "\n",
    "1. Para realizar este ejercicio he creado la función intercambiar_keys_values\n",
    "2. Inicio el bloque try para manejar posibles errores que puedan surgir.\n",
    "3. Creo el diccionario con los días de la semana como claves y acciones como valores.\n",
    "4. convierto los valores de dictionary en una lista en la que compruebo si la longitud de los valores en la lista es diferente a la longitud de los valores en el set(no permite valores repetidos). Cuando las longitudes son diferentes entonces me imprime la advertencia: \"existen multiples valores para una clave\". En ese caso, la función devuelve None, deteniendo la ejecución.\n",
    "5. En caso de que las longitudes sean iguales se crea un nuevo diccionario reverse_dictionary en el que las claves y valores del diccionario original se invierten\n",
    "6. Se imprimen ambos diccionarios\n",
    "7. Retorno del reverse_dictionary\n",
    "8. Manejo de errores generales\n",
    "9. Llamo a la función y almaceno el resultado (el diccionario invertido o None si hubo un error) en la variable reverse_dictionary. "
   ]
  },
  {
   "cell_type": "code",
   "execution_count": 4,
   "metadata": {},
   "outputs": [
    {
     "name": "stdout",
     "output_type": "stream",
     "text": [
      "Diccionario inicial: {'lunes': 'sonreir', 'martes': 'cantar', 'miercoles': 'bailar', 'jueves': 'rezar', 'viernes': 'agradecer', 'sabado': 'nadar', 'domingo': 'pasear'}\n",
      "Diccionario invertido: {'sonreir': 'lunes', 'cantar': 'martes', 'bailar': 'miercoles', 'rezar': 'jueves', 'agradecer': 'viernes', 'nadar': 'sabado', 'pasear': 'domingo'}\n"
     ]
    }
   ],
   "source": [
    "def intercambiar_keys_values():\n",
    "    try:\n",
    "        dictionary = {\n",
    "            'lunes': \"sonreir\",\n",
    "            'martes': \"cantar\",\n",
    "            'miercoles': \"bailar\",\n",
    "            'jueves': \"rezar\",\n",
    "            'viernes': \"agradecer\",\n",
    "            'sabado': \"nadar\",\n",
    "            'domingo': \"pasear\"\n",
    "        }\n",
    "        \n",
    "        valores = list(dictionary.values())\n",
    "        if len(valores) != len(set(valores)):\n",
    "            print(\"Existen múltiples valores para una clave\")\n",
    "            return None\n",
    "        else:\n",
    "            reverse_dictionary = {v: k for k, v in dictionary.items()}\n",
    "            print(\"Diccionario inicial:\", dictionary)\n",
    "            print(\"Diccionario invertido:\", reverse_dictionary)\n",
    "            return reverse_dictionary\n",
    "   \n",
    "    except Exception as e:\n",
    "        print(\"Ocurrió un error:\", str(e))\n",
    "        return None\n",
    "\n",
    "# Llamar a la función y almacenar el resultado\n",
    "reverse_dictionary = intercambiar_keys_values()"
   ]
  }
 ],
 "metadata": {
  "kernelspec": {
   "display_name": "Python 3",
   "language": "python",
   "name": "python3"
  },
  "language_info": {
   "codemirror_mode": {
    "name": "ipython",
    "version": 3
   },
   "file_extension": ".py",
   "mimetype": "text/x-python",
   "name": "python",
   "nbconvert_exporter": "python",
   "pygments_lexer": "ipython3",
   "version": "3.12.4"
  }
 },
 "nbformat": 4,
 "nbformat_minor": 2
}
